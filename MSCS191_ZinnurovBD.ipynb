{
 "cells": [
  {
   "cell_type": "code",
   "execution_count": 1,
   "metadata": {},
   "outputs": [],
   "source": [
    "import numpy as np\n",
    "import matplotlib.pyplot as plt\n",
    "%matplotlib inline"
   ]
  },
  {
   "cell_type": "markdown",
   "metadata": {},
   "source": [
    "$M$ - is the number of states: 2 - fair (F) and biased (B) dice\n",
    "\n",
    "$K$ - is the number of possible emissions: 6 - for every dice side\n",
    "\n",
    "$L$ - is length. Let it be 250"
   ]
  },
  {
   "cell_type": "code",
   "execution_count": 2,
   "metadata": {},
   "outputs": [],
   "source": [
    "L = 250"
   ]
  },
  {
   "cell_type": "markdown",
   "metadata": {},
   "source": [
    "- Set transition ($M \\times M$) and emission ($M \\times K$) matrices and beginning distribution\n",
    "(vector of length $M$)."
   ]
  },
  {
   "cell_type": "code",
   "execution_count": 3,
   "metadata": {},
   "outputs": [],
   "source": [
    "#transition matrix: F->F, F->B, B->F, B->B\n",
    "T = np.array([[.95, .05], [.1, .9]])\n",
    "#emission matrix: 1/6 * 6 for F and .1 * 5, .5 for B\n",
    "Em = np.array([[1/6 for i in range(6)], [.1, .1, .1, .1, .1, .5]])"
   ]
  },
  {
   "cell_type": "markdown",
   "metadata": {},
   "source": [
    "beginning distribution $p_0$ - (P(throwing F first, P(throwing B first)). \n",
    "Distribution is stationar, so $p_0\\cdot T= p_0$"
   ]
  },
  {
   "cell_type": "code",
   "execution_count": 4,
   "metadata": {},
   "outputs": [],
   "source": [
    "#beginning distribution\n",
    "p0 = (2/3, 1/3)"
   ]
  },
  {
   "cell_type": "markdown",
   "metadata": {},
   "source": [
    "- HMM random generator: generate a sequence x of length L given the model parameters."
   ]
  },
  {
   "cell_type": "code",
   "execution_count": 5,
   "metadata": {},
   "outputs": [],
   "source": [
    "#helps us to choose one value from several, if we have the array of their probabilities\n",
    "'''\n",
    "1. sum of all probabilites is 1\n",
    "2. choice is a random number from [0,1)\n",
    "3. we substract probabilities from it till it is in [0,1)\n",
    "4. the step, when it becomes negative, defines our choice\n",
    "'''\n",
    "\n",
    "def choose(probs):\n",
    "    flag = np.random.random()\n",
    "    i = 0\n",
    "    for prob in probs:\n",
    "        flag -= prob\n",
    "        if flag < 0:\n",
    "            return i\n",
    "        i += 1"
   ]
  },
  {
   "cell_type": "markdown",
   "metadata": {},
   "source": [
    "Now we have to create hidden and obsrved sequences"
   ]
  },
  {
   "cell_type": "code",
   "execution_count": 6,
   "metadata": {},
   "outputs": [],
   "source": [
    "'''\n",
    "Hidden sequence is responsible for dice choices\n",
    "The first state is chosen according to beginning distribation. \n",
    "The next states are  - according to transition probabilities.\n",
    "'''\n",
    "def hidden_seq(start_dice, trans, length):\n",
    "    seq = np.zeros(length, dtype=int)\n",
    "    seq[0] = choose(start_dice)\n",
    "    for i in range(1, length):\n",
    "        dice = trans[seq[i-1]]\n",
    "        seq[i] = choose(dice)\n",
    "    return seq"
   ]
  },
  {
   "cell_type": "code",
   "execution_count": 7,
   "metadata": {},
   "outputs": [],
   "source": [
    "'''\n",
    "observed sequence (= sequence x) is responsible for dice faces\n",
    "it is based on hidden sequence and emission probabilities\n",
    "'''\n",
    "def observed_seq(hidden, emission):\n",
    "    length = len(hidden)\n",
    "    seq = np.zeros(length, dtype=int)\n",
    "    for i in range(length):\n",
    "        face = emission[hidden[i]]\n",
    "        seq[i] = choose(face)\n",
    "    return seq"
   ]
  },
  {
   "cell_type": "markdown",
   "metadata": {},
   "source": [
    "- Use Viterbi algorithm to find the most probable path π given x and HMM parameters."
   ]
  },
  {
   "cell_type": "markdown",
   "metadata": {},
   "source": [
    "<img src='1.png'></img>"
   ]
  },
  {
   "cell_type": "code",
   "execution_count": 19,
   "metadata": {},
   "outputs": [],
   "source": [
    "#most likely dice choices, knowing dice faces\n",
    "'''\n",
    "x - observed sequence\n",
    "a - transition matrix\n",
    "e - emission matrix\n",
    "'''\n",
    "def viterbi(start_dice, x, a, e):\n",
    "    L = len(x)\n",
    "    V = np.zeros((2, L))\n",
    "    ptr = np.zeros((L, 2))\n",
    "    #initialisation\n",
    "    '''\n",
    "    I changed it comparing to what we had in tutorial - we know beginning distribution\n",
    "    '''\n",
    "    V[ :, 0] = start_dice * e[ :, x[0]]\n",
    "    #recursion\n",
    "    for i in range(1, L):\n",
    "        for l in range(2):\n",
    "            V[l, i] = e[l, x[i]] * np.max(V[ :, i - 1] * a[ :, l])\n",
    "            ptr[i, l] = np.argmax(V[ :, i - 1] * a[ :, l])\n",
    "    \n",
    "    seq = np.zeros(L, dtype=int)\n",
    "    #termination\n",
    "    seq[-1] = np.argmax(V[ :, -1] * a[ :, -1])\n",
    "    #traceback\n",
    "    for i in range(L - 1, 0, -1):\n",
    "        seq[i - 1] = ptr[i, seq[i]]\n",
    "    return seq"
   ]
  },
  {
   "cell_type": "code",
   "execution_count": 22,
   "metadata": {},
   "outputs": [
    {
     "data": {
      "text/plain": [
       "array([0, 0, 0, 0, 0, 0, 0, 0, 0, 0, 0, 0, 0, 0, 0, 0, 0, 0, 0, 0, 0, 0,\n",
       "       0, 0, 0, 0, 0, 0, 0, 0, 0, 0, 0, 0, 0, 0, 0, 0, 0, 0, 0, 0, 0, 0,\n",
       "       0, 0, 0, 0, 0, 0, 0, 0, 0, 0, 0, 0, 0, 0, 0, 0, 0, 0, 0, 0, 0, 0,\n",
       "       0, 0, 0, 0, 0, 0, 0, 0, 0, 0, 0, 0, 0, 0, 0, 0, 0, 0, 0, 0, 0, 0,\n",
       "       0, 0, 0, 0, 0, 0, 0, 0, 0, 0, 0, 0, 0, 0, 0, 0, 0, 0, 0, 0, 0, 0,\n",
       "       0, 0, 0, 0, 0, 0, 0, 0, 0, 0, 0, 0, 0, 0, 1, 1, 1, 1, 1, 1, 1, 1,\n",
       "       1, 1, 1, 1, 1, 1, 1, 1, 1, 1, 1, 1, 1, 1, 0, 0, 0, 0, 0, 0, 0, 0,\n",
       "       0, 0, 0, 0, 0, 0, 0, 0, 0, 0, 0, 0, 0, 0, 0, 0, 0, 0, 0, 0, 0, 0,\n",
       "       0, 0, 0, 0, 0, 0, 0, 0, 0, 0, 0, 0, 0, 0, 0, 0, 0, 0, 0, 0, 0, 0,\n",
       "       0, 0, 0, 0, 0, 0, 0, 0, 0, 0, 0, 0, 0, 0, 0, 0, 0, 0, 0, 0, 0, 0,\n",
       "       0, 0, 0, 0, 0, 0, 0, 0, 0, 0, 0, 0, 0, 0, 0, 0, 0, 0, 0, 0, 0, 0,\n",
       "       0, 0, 0, 0, 0, 0, 1, 1])"
      ]
     },
     "execution_count": 22,
     "metadata": {},
     "output_type": "execute_result"
    }
   ],
   "source": [
    "viterbi(p0, observed_seq(hidden_seq(p0, T, L), Em), T, Em)"
   ]
  },
  {
   "cell_type": "code",
   "execution_count": null,
   "metadata": {},
   "outputs": [],
   "source": []
  }
 ],
 "metadata": {
  "kernelspec": {
   "display_name": "Python 3",
   "language": "python",
   "name": "python3"
  },
  "language_info": {
   "codemirror_mode": {
    "name": "ipython",
    "version": 3
   },
   "file_extension": ".py",
   "mimetype": "text/x-python",
   "name": "python",
   "nbconvert_exporter": "python",
   "pygments_lexer": "ipython3",
   "version": "3.6.4"
  }
 },
 "nbformat": 4,
 "nbformat_minor": 2
}
