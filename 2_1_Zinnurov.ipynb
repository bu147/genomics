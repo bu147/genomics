{
 "cells": [
  {
   "cell_type": "markdown",
   "metadata": {},
   "source": [
    "<img src='h1.png'></img>"
   ]
  },
  {
   "cell_type": "markdown",
   "metadata": {},
   "source": [
    "<img src='h2.png'></img>"
   ]
  },
  {
   "cell_type": "code",
   "execution_count": 1,
   "metadata": {},
   "outputs": [],
   "source": [
    "import numpy as np\n",
    "from scipy.special import binom as C"
   ]
  },
  {
   "cell_type": "code",
   "execution_count": 46,
   "metadata": {},
   "outputs": [],
   "source": [
    "M = 100 #число хромосом\n",
    "mu = 100000 #частота мутаций\n",
    "K = 3 #количество ответвлений, считая от изначального предка к конечным потомкам = количество конечных потомков"
   ]
  },
  {
   "cell_type": "code",
   "execution_count": 4,
   "metadata": {},
   "outputs": [],
   "source": [
    "T = np.array([0, .04, .01, .07], dtype=float) #периоды времени\n",
    "N = np.array([2, 5, 10, 6], dtype=int) #размеры популяции"
   ]
  },
  {
   "cell_type": "code",
   "execution_count": 5,
   "metadata": {},
   "outputs": [],
   "source": [
    "def v(t):\n",
    "    '''\n",
    "    размер популяции в данный момент времени t\n",
    "    '''\n",
    "    cond = list()\n",
    "    for i in range(len(T) - 1):\n",
    "        cond.append(T[i] <= t < T[i + 1])\n",
    "    cond.append(t >= T[-1])\n",
    "    return np.piecewise(t, cond, N)"
   ]
  },
  {
   "cell_type": "code",
   "execution_count": 6,
   "metadata": {},
   "outputs": [],
   "source": [
    "def w(K, t):\n",
    "    '''\n",
    "    интенсивность процесса Пуассона\n",
    "    K - количество конечных потомков\n",
    "    t - время\n",
    "    '''\n",
    "    return K * mu + 1 / v(t) * C(K, 2)"
   ]
  },
  {
   "cell_type": "code",
   "execution_count": 7,
   "metadata": {},
   "outputs": [],
   "source": [
    "def add_chromosome(lineage, pos, mutated):\n",
    "    '''\n",
    "    добавление хромосомы к особи и её потомкам\n",
    "    lineage - ветка предок-потомки\n",
    "    pos - позиция в геноме - хромосома, которую мы хотим добавить\n",
    "    mutated - признак мутации: 1 - есть, 0 - нет\n",
    "    '''\n",
    "    #заходим в нулевой элемент списка - это вложенный список. В нём первый эемелент - это словарь.\n",
    "    lineage[0][1][pos] = mutated\n",
    "    #если список lineage содержит потомка или двоих, повторяем действие\n",
    "    for i in range(1, len(lineage)):\n",
    "        add_chromosome(lineage[i], pos, mutated)"
   ]
  },
  {
   "cell_type": "code",
   "execution_count": 23,
   "metadata": {},
   "outputs": [],
   "source": [
    "def simulation(K, mu, T, N):\n",
    "    '''\n",
    "    коалесцентная модель\n",
    "    K - количество конечных потомков\n",
    "    mu - частота мутаций\n",
    "    T - периоды времени\n",
    "    N - размеры популяции\n",
    "    \n",
    "    возвращает дерево в виде вложенных списков и времена Пуассоновского процесса для мутации и коалесценции\n",
    "    '''\n",
    "    #особь, хромосомы, время коалесценции, количество мутаций\n",
    "    decendents = list([[i, {}, .0, 0]] for i in range(K)) #основа будущего дерева\n",
    "    #np.random.seed(1)\n",
    "    t = 0\n",
    "    \n",
    "    while K > 1:\n",
    "        W1 = w(K, t)\n",
    "        '''\n",
    "        генерация времени до следующего события Пуассоновского процесса\n",
    "        время имеет экспоненциальное распределение\n",
    "        параметр равен интенсивности Пуассоновского процесса, т.е. w(K,t)\n",
    "        '''\n",
    "        t += np.random.exponential(1 / W1)\n",
    "        #Проверка\n",
    "        W2 = w(K, t)\n",
    "        if W1 != W2:\n",
    "            for tau in T:\n",
    "                if w(K, tau) == W2:\n",
    "                    t = tau\n",
    "                    break\n",
    "        W = w(K, t)\n",
    "        \n",
    "        weight = K * mu\n",
    "        \n",
    "        '''\n",
    "        генерация события мутации, используя распределение Бернулли\n",
    "        вес weight = K * mu\n",
    "        вероятность weight / w(K, t)\n",
    "        \n",
    "        используется биномиальное распределение с числом испытаний = 1,\n",
    "        поэтому количество успехов может быть равно либо 1, либо 0\n",
    "        \n",
    "        из определения распределения Бернулли неудача события мутации даёт успех события коалесценции \n",
    "        '''\n",
    "        if np.random.binomial(1, weight / W):\n",
    "            #случайно выбираем одного потомка, который оказался подвержен мутации\n",
    "            l = np.random.randint(0, K)\n",
    "            #случайно выбираем хромосому, которая оказалась подвержена мутации\n",
    "            p = np.random.random()\n",
    "            decendents[l][0][3] += 1\n",
    "            #всем потомкам особи l передаём эту мутацию - работем внутри ветки decendents[l]\n",
    "            add_chromosome(decendents[l], p , 1)\n",
    "            #остальные ветки получают ноль\n",
    "            for i in range(l):\n",
    "                add_chromosome(decendents[i], p, 0)\n",
    "            for i in range(l + 1, K):\n",
    "                add_chromosome(decendents[i], p, 0)\n",
    "            '''\n",
    "            print('K =', K)\n",
    "            print('t =', t)\n",
    "            print('мутация хромосомы', p, 'у особи', l)\n",
    "            print('--------------------------------')\n",
    "            '''\n",
    "        else:\n",
    "            l1, l2 = np.random.choice(K, 2, replace=False)\n",
    "            lmin = min(l1, l2) \n",
    "            lmax = max(l1, l2)\n",
    "            '''\n",
    "            print('K =', K)\n",
    "            print('t =', t)\n",
    "            print('коалесценция между особями', l1, 'и', l2)\n",
    "            print('--------------------------------')\n",
    "            '''\n",
    "            K -= 1\n",
    "            ancestors = list([[i, {}, t, 0]] for i in range(K))\n",
    "            for i in range(lmin):\n",
    "                ancestors[i].append(decendents[i])\n",
    "            #чтобы провести даньнейшую связь предков и потомков, проведём замену\n",
    "            decendents[lmin + 1], decendents[lmax] = decendents[lmax], decendents[lmin + 1]\n",
    "            ancestors[lmin].append(decendents[lmin])\n",
    "            ancestors[lmin].append(decendents[lmin + 1])\n",
    "            for i in range(lmin + 1, K):\n",
    "                ancestors[i].append(decendents[i + 1])\n",
    "            decendents = ancestors\n",
    "            \n",
    "    return decendents"
   ]
  },
  {
   "cell_type": "code",
   "execution_count": 47,
   "metadata": {},
   "outputs": [],
   "source": [
    "tree = simulation(K, mu, T, N)"
   ]
  },
  {
   "cell_type": "markdown",
   "metadata": {},
   "source": [
    "Проверка на равномерность распределения мутации"
   ]
  },
  {
   "cell_type": "code",
   "execution_count": 48,
   "metadata": {},
   "outputs": [],
   "source": [
    "length1 = abs(tree[0][1][1][0][2] - tree[0][1][0][2])"
   ]
  },
  {
   "cell_type": "code",
   "execution_count": 49,
   "metadata": {},
   "outputs": [],
   "source": [
    "length2 = abs(tree[0][0][2] - tree[0][1][0][2])"
   ]
  },
  {
   "cell_type": "code",
   "execution_count": 50,
   "metadata": {},
   "outputs": [],
   "source": [
    "mut1 = tree[0][1][1][0][3]\n",
    "mut2 = tree[0][1][0][3]"
   ]
  },
  {
   "cell_type": "code",
   "execution_count": 51,
   "metadata": {},
   "outputs": [
    {
     "data": {
      "text/plain": [
       "(167601, 165488)"
      ]
     },
     "execution_count": 51,
     "metadata": {},
     "output_type": "execute_result"
    }
   ],
   "source": [
    "mut1, mut2"
   ]
  },
  {
   "cell_type": "code",
   "execution_count": 52,
   "metadata": {},
   "outputs": [
    {
     "data": {
      "text/plain": [
       "1.4684646461891936e-07"
      ]
     },
     "execution_count": 52,
     "metadata": {},
     "output_type": "execute_result"
    }
   ],
   "source": [
    "abs(length1 / mut1 - length2 / mut2)"
   ]
  },
  {
   "cell_type": "markdown",
   "metadata": {},
   "source": [
    "### Коалесценция\n",
    "На каждом поколении своя нумерация. Принадлежность потомка непосредственному предку обозначается их нахождением в одном списке, причём потомок имеет на один уровень вложенности больше.\n",
    "\n",
    "Например:\n",
    "\n",
    "[0, [1] ] - предок 0 со своим потомком 1.\n",
    "\n",
    "[0, [1, [1], [2] ] ] - предок 0 со своим потомком 1, у которого потомки 1 и 2."
   ]
  },
  {
   "cell_type": "markdown",
   "metadata": {},
   "source": [
    "### Добавляем мутацию\n",
    "Теперь каждая особь это не число, а список из 4 элементов. Первый элемент - особь. Второй - словарь. Ключи словаря - хромосомы. Значение каждого ключа - 0 или 1 - наличие мутации у данной хромосомы. Третий элемент - время коалесценции. Четвёртый - количество мутаций.\n",
    "\n",
    "Например:\n",
    "\n",
    "[[0, {}, t, 0], [[1, {0.5: 1}, 0, 1]] ] - предок 0 со своим потомком 1. У потомка мутация хромосомы 0.5\n",
    "\n",
    "[[0, {}, t, 0], \n",
    "\n",
    "    [[1, {0.5: 1}, t1, 1], \n",
    "        [[1, {0.5: 1, 0.67: 0}, 0, 0]], \n",
    "        [[2, {0.5: 1, 0.67: 1}, 0, 1]] \n",
    "    ] \n",
    "]\n",
    "\n",
    "предок 0 со своим потомком 1 (мутация 0.5), у которого потомки 1 (мутация 0.5; 0.67 без мутации) и 2 (мутация 0.5 и 0.67)."
   ]
  },
  {
   "cell_type": "code",
   "execution_count": null,
   "metadata": {},
   "outputs": [],
   "source": []
  }
 ],
 "metadata": {
  "kernelspec": {
   "display_name": "Python 3",
   "language": "python",
   "name": "python3"
  },
  "language_info": {
   "codemirror_mode": {
    "name": "ipython",
    "version": 3
   },
   "file_extension": ".py",
   "mimetype": "text/x-python",
   "name": "python",
   "nbconvert_exporter": "python",
   "pygments_lexer": "ipython3",
   "version": "3.6.4"
  }
 },
 "nbformat": 4,
 "nbformat_minor": 2
}
