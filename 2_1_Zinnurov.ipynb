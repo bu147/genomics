{
 "cells": [
  {
   "cell_type": "markdown",
   "metadata": {},
   "source": [
    "<img src='h1.png'></img>"
   ]
  },
  {
   "cell_type": "markdown",
   "metadata": {},
   "source": [
    "<img src='h2.png'></img>"
   ]
  },
  {
   "cell_type": "code",
   "execution_count": 7,
   "metadata": {},
   "outputs": [],
   "source": [
    "import numpy as np\n",
    "from scipy.special import binom as C"
   ]
  },
  {
   "cell_type": "code",
   "execution_count": 94,
   "metadata": {},
   "outputs": [],
   "source": [
    "M = 100 #число хромосом\n",
    "mu = 1 #частота мутаций\n",
    "K = 10 #количество ответвлений, считая от изначального предка к конечным потомкам = количество конечных потомков"
   ]
  },
  {
   "cell_type": "code",
   "execution_count": 67,
   "metadata": {},
   "outputs": [],
   "source": [
    "T = np.array([0, .04, .01, .07], dtype=float) #периоды времени\n",
    "N = np.array([2, 5, 10, 6], dtype=int) #размеры популяции"
   ]
  },
  {
   "cell_type": "code",
   "execution_count": 57,
   "metadata": {},
   "outputs": [],
   "source": [
    "def v(t):\n",
    "    '''\n",
    "    размер популяции в данный момент времени t\n",
    "    '''\n",
    "    cond = list()\n",
    "    for i in range(len(T) - 1):\n",
    "        cond.append(T[i] <= t < T[i + 1])\n",
    "    cond.append(t >= T[-1])\n",
    "    return np.piecewise(t, cond, N)"
   ]
  },
  {
   "cell_type": "code",
   "execution_count": 60,
   "metadata": {},
   "outputs": [],
   "source": [
    "def w(K, t):\n",
    "    '''\n",
    "    интенсивность процесса Пуассона\n",
    "    K - количество конечных потомков\n",
    "    t - время\n",
    "    '''\n",
    "    return K * mu + 1 / v(t) * C(K, 2)"
   ]
  },
  {
   "cell_type": "code",
   "execution_count": 119,
   "metadata": {},
   "outputs": [],
   "source": [
    "def simulation(K, mu, T, N):\n",
    "    '''\n",
    "    коалесцентная модель\n",
    "    K - количество конечных потомков\n",
    "    mu - частота мутаций\n",
    "    T - периоды времени\n",
    "    N - размеры популяции\n",
    "    '''\n",
    "    np.random.seed(1)\n",
    "    t = 0\n",
    "    mutated = np.zeros(K) #список мутировавших хромосом\n",
    "    while K >=1:\n",
    "        W = w(K, t)\n",
    "        weight_mu = K * mu\n",
    "        weight_coal = 1 / v(t) * C(K, 2)\n",
    "        '''\n",
    "        генерация времени до следующего события Пуассоновского процесса\n",
    "        время имеет экспоненциальное распределение\n",
    "        параметр равен интенсивности Пуассоновского процесса, т.е. w(K,t)\n",
    "        '''\n",
    "        t += np.random.exponential(1 / W)\n",
    "        '''\n",
    "        генерация события мутации, используя распределение Бернулли\n",
    "        вес weight_mut = K * mu\n",
    "        вероятность weight / w(K, t)\n",
    "        \n",
    "        используется биномиальное распределение с числом испытаний = 1,\n",
    "        поэтому количество успехов может быть равно либо 1, либо 0\n",
    "        '''\n",
    "        if np.random.binomial(1, weight_mu / W):\n",
    "            #случайно выбираем одного потомка, который оказался подвержен мутации\n",
    "            l = np.random.randint(0, K - 1)\n",
    "            #соучайно выбираем хромосому, которая оказалась подвержена мутации\n",
    "            p = np.random.rand\n",
    "            #всем его потомкам передаём эту мутацию\n",
    "        '''\n",
    "        генерация события коалесценции, используя распределение Бернулли\n",
    "        вес weight_coal = 1 / v(t) * C(K, 2)\n",
    "        вероятность weight / w(K, t)\n",
    "        '''\n",
    "        if np.random.binomial(1, weight_coal / W):\n",
    "            "
   ]
  },
  {
   "cell_type": "code",
   "execution_count": null,
   "metadata": {},
   "outputs": [],
   "source": []
  }
 ],
 "metadata": {
  "kernelspec": {
   "display_name": "Python 3",
   "language": "python",
   "name": "python3"
  },
  "language_info": {
   "codemirror_mode": {
    "name": "ipython",
    "version": 3
   },
   "file_extension": ".py",
   "mimetype": "text/x-python",
   "name": "python",
   "nbconvert_exporter": "python",
   "pygments_lexer": "ipython3",
   "version": "3.6.4"
  }
 },
 "nbformat": 4,
 "nbformat_minor": 2
}
