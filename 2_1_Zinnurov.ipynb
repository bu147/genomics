{
 "cells": [
  {
   "cell_type": "markdown",
   "metadata": {},
   "source": [
    "<img src='h1.png'></img>"
   ]
  },
  {
   "cell_type": "markdown",
   "metadata": {},
   "source": [
    "<img src='h2.png'></img>"
   ]
  },
  {
   "cell_type": "code",
   "execution_count": 1,
   "metadata": {},
   "outputs": [],
   "source": [
    "import numpy as np\n",
    "from scipy.special import binom as C"
   ]
  },
  {
   "cell_type": "code",
   "execution_count": 59,
   "metadata": {},
   "outputs": [],
   "source": [
    "M = 100 #число хромосом\n",
    "mu = 2 #частота мутаций\n",
    "K = 10 #количество ответвлений, считая от изначального предка к конечным потомкам = количество конечных потомков"
   ]
  },
  {
   "cell_type": "code",
   "execution_count": 3,
   "metadata": {},
   "outputs": [],
   "source": [
    "T = np.array([0, .04, .01, .07], dtype=float) #периоды времени\n",
    "N = np.array([2, 5, 10, 6], dtype=int) #размеры популяции"
   ]
  },
  {
   "cell_type": "code",
   "execution_count": 4,
   "metadata": {},
   "outputs": [],
   "source": [
    "def v(t):\n",
    "    '''\n",
    "    размер популяции в данный момент времени t\n",
    "    '''\n",
    "    cond = list()\n",
    "    for i in range(len(T) - 1):\n",
    "        cond.append(T[i] <= t < T[i + 1])\n",
    "    cond.append(t >= T[-1])\n",
    "    return np.piecewise(t, cond, N)"
   ]
  },
  {
   "cell_type": "code",
   "execution_count": 5,
   "metadata": {},
   "outputs": [],
   "source": [
    "def w(K, t):\n",
    "    '''\n",
    "    интенсивность процесса Пуассона\n",
    "    K - количество конечных потомков\n",
    "    t - время\n",
    "    '''\n",
    "    return K * mu + 1 / v(t) * C(K, 2)"
   ]
  },
  {
   "cell_type": "markdown",
   "metadata": {},
   "source": [
    "# Пока без мутаций"
   ]
  },
  {
   "cell_type": "code",
   "execution_count": 60,
   "metadata": {},
   "outputs": [],
   "source": [
    "def simulation(K, mu, T, N):\n",
    "    '''\n",
    "    коалесцентная модель\n",
    "    K - количество конечных потомков\n",
    "    mu - частота мутаций\n",
    "    T - периоды времени\n",
    "    N - размеры популяции\n",
    "    \n",
    "    возвращает дерево в виде вложенных списков и времена Пуассоновского процесса для мутации и коалесценции\n",
    "    '''\n",
    "    decendents = list([{i:[]}] for i in range(K)) #основа будущего дерева\n",
    "    np.random.seed(1)\n",
    "    t = 0\n",
    "    t_mut = list()\n",
    "    t_coal = list()\n",
    "    while K > 1:\n",
    "        W = w(K, t)\n",
    "        weight = K * mu\n",
    "        \n",
    "        '''\n",
    "        генерация события мутации, используя распределение Бернулли\n",
    "        вес weight = K * mu\n",
    "        вероятность weight / w(K, t)\n",
    "        \n",
    "        используется биномиальное распределение с числом испытаний = 1,\n",
    "        поэтому количество успехов может быть равно либо 1, либо 0\n",
    "        \n",
    "        из определения распределения Бернулли неудача события мутации даёт успех события коалесценции \n",
    "        '''\n",
    "        if np.random.binomial(1, weight / W):\n",
    "            t_mut.append(t)\n",
    "            #случайно выбираем одного потомка, который оказался подвержен мутации\n",
    "            l = np.random.randint(0, K)\n",
    "            #случайно выбираем хромосому, которая оказалась подвержена мутации\n",
    "            p = np.random.random()\n",
    "            decendents[l]\n",
    "            #всем потомкам рассматриваемой особи передаём эту мутацию\n",
    "        else:\n",
    "            t_coal.append(t)\n",
    "            l1, l2 = np.random.choice(K, 2, replace=False)\n",
    "            lmin = min(l1, l2) \n",
    "            lmax = max(l1, l2)\n",
    "            K -= 1\n",
    "            ancestors = list([{i:[]}] for i in range(K))\n",
    "            for i in range(lmin):\n",
    "                ancestors[i].append(decendents[i])\n",
    "            #чтобы провести даньнейшую связь предков и потомков, проведём замену\n",
    "            decendents[lmin + 1], decendents[lmax] = decendents[lmax], decendents[lmin + 1]\n",
    "            ancestors[lmin].append(decendents[lmin])\n",
    "            ancestors[lmin].append(decendents[lmin + 1])\n",
    "            \n",
    "            for i in range(lmin + 1, K):\n",
    "                ancestors[i].append(decendents[i + 1])\n",
    "            decendents = ancestors\n",
    "        \n",
    "        '''\n",
    "        генерация времени до следующего события Пуассоновского процесса\n",
    "        время имеет экспоненциальное распределение\n",
    "        параметр равен интенсивности Пуассоновского процесса, т.е. w(K,t)\n",
    "        '''\n",
    "        t += np.random.exponential(1 / W)\n",
    "        \n",
    "    return decendents, t_mut, t_coal"
   ]
  },
  {
   "cell_type": "code",
   "execution_count": 61,
   "metadata": {},
   "outputs": [],
   "source": [
    "tree = simulation(K, mu, T, N)[0]"
   ]
  },
  {
   "cell_type": "code",
   "execution_count": 62,
   "metadata": {},
   "outputs": [
    {
     "data": {
      "text/plain": [
       "[[{0: []},\n",
       "  [{0: []},\n",
       "   [{0: []},\n",
       "    [{0: []},\n",
       "     [{0: []}, [{0: []}, [{0: []}, [{0: []}, [{0: []}, [{0: []}]]]]]]],\n",
       "    [{2: []},\n",
       "     [{2: []},\n",
       "      [{2: []},\n",
       "       [{2: []}, [{2: []}, [{2: []}, [{2: []}], [{3: []}]]]],\n",
       "       [{3: []}, [{3: []}, [{3: []}, [{4: []}]], [{7: []}, [{8: []}]]]]]]]],\n",
       "   [{2: []},\n",
       "    [{3: []},\n",
       "     [{4: []},\n",
       "      [{4: []}, [{5: []}, [{5: []}, [{6: []}, [{7: []}]]]]],\n",
       "      [{5: []}, [{6: []}, [{7: []}, [{8: []}, [{9: []}]]]]]]]]],\n",
       "  [{1: []},\n",
       "   [{1: []},\n",
       "    [{1: []},\n",
       "     [{1: []}, [{1: []}, [{1: []}, [{1: []}, [{1: []}, [{1: []}]]]]]],\n",
       "     [{3: []},\n",
       "      [{3: []},\n",
       "       [{4: []},\n",
       "        [{4: []}, [{5: []}, [{6: []}]]],\n",
       "        [{6: []}, [{4: []}, [{5: []}]]]]]]]]]]]"
      ]
     },
     "execution_count": 62,
     "metadata": {},
     "output_type": "execute_result"
    }
   ],
   "source": [
    "tree"
   ]
  },
  {
   "cell_type": "markdown",
   "metadata": {},
   "source": [
    "### Коалесценция\n",
    "На каждом поколении своя нумерация. Принадлежность потомка непосредственному предку обозначается их нахождением в одном списке, причём потомок имеет на один уровень вложенности больше.\n",
    "\n",
    "Например:\n",
    "\n",
    "[0, [1] ] - предок 0 со своим потомком 1.\n",
    "\n",
    "[0, [1, [1, 2] ] ] - предок 0 со своим потомком 1, у которого потомки 1 и 2."
   ]
  },
  {
   "cell_type": "markdown",
   "metadata": {},
   "source": [
    "### Добавляем мутацию\n",
    "Теперь каждый элемент списка не число, а словарь из словарей. Ключ внешнего словаря - номер особи. Значения внешнего словаря - они же ключи внутренних словарей - хромосомы. Значение внутренного словаря - 0 или 1 - наличие мутации у данной хромосомы."
   ]
  },
  {
   "cell_type": "code",
   "execution_count": 41,
   "metadata": {},
   "outputs": [],
   "source": [
    "a = list([{i:[]}] for i in range(K))"
   ]
  },
  {
   "cell_type": "code",
   "execution_count": 44,
   "metadata": {},
   "outputs": [],
   "source": [
    "a[2].append([{45:{}}])"
   ]
  },
  {
   "cell_type": "code",
   "execution_count": 49,
   "metadata": {},
   "outputs": [
    {
     "data": {
      "text/plain": [
       "True"
      ]
     },
     "execution_count": 49,
     "metadata": {},
     "output_type": "execute_result"
    }
   ],
   "source": [
    "type(a[2][1]) == list"
   ]
  },
  {
   "cell_type": "code",
   "execution_count": null,
   "metadata": {},
   "outputs": [],
   "source": []
  }
 ],
 "metadata": {
  "kernelspec": {
   "display_name": "Python 3",
   "language": "python",
   "name": "python3"
  },
  "language_info": {
   "codemirror_mode": {
    "name": "ipython",
    "version": 3
   },
   "file_extension": ".py",
   "mimetype": "text/x-python",
   "name": "python",
   "nbconvert_exporter": "python",
   "pygments_lexer": "ipython3",
   "version": "3.6.4"
  }
 },
 "nbformat": 4,
 "nbformat_minor": 2
}
